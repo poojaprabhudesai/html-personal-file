{
  "nbformat": 4,
  "nbformat_minor": 0,
  "metadata": {
    "colab": {
      "provenance": [],
      "authorship_tag": "ABX9TyO4k8/pKwIrS7IOyyuYlarM",
      "include_colab_link": true
    },
    "kernelspec": {
      "name": "python3",
      "display_name": "Python 3"
    },
    "language_info": {
      "name": "python"
    }
  },
  "cells": [
    {
      "cell_type": "markdown",
      "metadata": {
        "id": "view-in-github",
        "colab_type": "text"
      },
      "source": [
        "<a href=\"https://colab.research.google.com/github/poojaprabhudesai/html-personal-file/blob/master/Untitled0.ipynb\" target=\"_parent\"><img src=\"https://colab.research.google.com/assets/colab-badge.svg\" alt=\"Open In Colab\"/></a>"
      ]
    },
    {
      "cell_type": "code",
      "execution_count": 6,
      "metadata": {
        "colab": {
          "base_uri": "https://localhost:8080/"
        },
        "id": "MqXK4pKQ6kz6",
        "outputId": "4c47e882-8aba-4264-e2a8-d38980eec69b"
      },
      "outputs": [
        {
          "output_type": "stream",
          "name": "stdout",
          "text": [
            "Hello, What's your name?pooja\n",
            "okay! pooja I am Guessing a number between 1 and 10:\n",
            "5\n",
            "Your guess is too low\n",
            "6\n",
            "Your guess is too low\n",
            "10\n",
            "Your guess is too high\n",
            "8\n",
            "Your guess is too low\n",
            "9\n",
            "You guessed the number in 5 tries!\n"
          ]
        }
      ],
      "source": [
        "import random\n",
        "number = random.randint(1, 10)\n",
        "\n",
        "player_name = input(\"Hello, What's your name?\")\n",
        "number_of_guesses = 0\n",
        "print('okay! '+ player_name+ ' I am Guessing a number between 1 and 10:')\n",
        "\n",
        "while number_of_guesses < 5:\n",
        "    guess = int(input())\n",
        "    number_of_guesses += 1\n",
        "    if guess < number:\n",
        "        print('Your guess is too low')\n",
        "    if guess > number:\n",
        "        print('Your guess is too high')\n",
        "    if guess == number:\n",
        "        break\n",
        "if guess == number:\n",
        "    print('You guessed the number in ' + str(number_of_guesses) + ' tries!')\n",
        "else:\n",
        "    print('You did not guess the number, The number was ' + str(number))\n"
      ]
    }
  ]
}